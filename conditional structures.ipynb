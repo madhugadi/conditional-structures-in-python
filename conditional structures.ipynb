{
 "cells": [
  {
   "cell_type": "markdown",
   "metadata": {},
   "source": [
    "## conditional structures\n",
    "\n",
    "- Simple if statement\n",
    "- if-else statement\n",
    "- if -elif statement\n",
    "- nested -if statement"
   ]
  },
  {
   "cell_type": "code",
   "execution_count": 2,
   "metadata": {},
   "outputs": [
    {
     "name": "stdout",
     "output_type": "stream",
     "text": [
      "enter marks99\n",
      "ok\n"
     ]
    }
   ],
   "source": [
    "# simple if statement\n",
    "\n",
    "x=int(input('enter marks'))\n",
    "\n",
    "if x>77:\n",
    "    print('ok')"
   ]
  },
  {
   "cell_type": "code",
   "execution_count": 4,
   "metadata": {},
   "outputs": [
    {
     "name": "stdout",
     "output_type": "stream",
     "text": [
      "enter number9\n",
      "bye\n"
     ]
    }
   ],
   "source": [
    "# if-else statement\n",
    "\n",
    "y=int(input('enter number'))\n",
    "\n",
    "if y<7:\n",
    "    print('hai')\n",
    "else:\n",
    "    print('bye')"
   ]
  },
  {
   "cell_type": "code",
   "execution_count": 5,
   "metadata": {},
   "outputs": [
    {
     "name": "stdout",
     "output_type": "stream",
     "text": [
      "enter marks180\n",
      "enter marks2 80\n",
      "pass\n",
      "results checked\n"
     ]
    }
   ],
   "source": [
    "x=int(input('enter marks1'))\n",
    "y=int(input('enter marks2 '))\n",
    "\n",
    "if x>=70 and y>=70:\n",
    "     print('pass')\n",
    "elif x<70 and y<70:\n",
    "    print('fail')\n",
    "elif x>=70 or y<70:\n",
    "    print('fail')\n",
    "elif x<70 or y>70:\n",
    "    print('fail')\n",
    "print('results checked')"
   ]
  },
  {
   "cell_type": "code",
   "execution_count": 3,
   "metadata": {},
   "outputs": [
    {
     "name": "stdout",
     "output_type": "stream",
     "text": [
      "enter marks56\n",
      "second class\n"
     ]
    }
   ],
   "source": [
    "x=int(input('enter marks'))\n",
    "if x>100 or x<0:\n",
    "    print('invalid')\n",
    "    \n",
    "elif x>=75:\n",
    "    print('distinction')\n",
    "elif x>=60:\n",
    "    print('first class')\n",
    "elif x>=50:\n",
    "    print('second class')\n",
    "elif x>=40:\n",
    "    print('pass')\n",
    "elif x<40:\n",
    "    print('fail')\n",
    "\n",
    "    "
   ]
  },
  {
   "cell_type": "code",
   "execution_count": 9,
   "metadata": {},
   "outputs": [
    {
     "name": "stdout",
     "output_type": "stream",
     "text": [
      "enter marks45\n",
      "distinction\n"
     ]
    }
   ],
   "source": [
    "# nested if-else\n",
    "\n",
    "marks=float(input('enter marks'))\n",
    "if marks>=60:\n",
    "    if marks<70:\n",
    "        print('first class')\n",
    "else:\n",
    "    print('distinction')"
   ]
  },
  {
   "cell_type": "markdown",
   "metadata": {},
   "source": [
    "### write a program to prompt the user for number of hours worked and wage per hour.compute gross pay\n",
    "\n",
    "### write a program which prompts the user for a celsius temperature,convert the temperature to fahrenheit and print out the converted temperature"
   ]
  },
  {
   "cell_type": "code",
   "execution_count": 7,
   "metadata": {},
   "outputs": [
    {
     "name": "stdout",
     "output_type": "stream",
     "text": [
      "enter num of hours4\n",
      "enter wage per hour100\n",
      "400.0\n"
     ]
    }
   ],
   "source": [
    "## workpay\n",
    "\n",
    "hours=float(input('enter num of hours'))\n",
    "wage=float(input('enter wage per hour'))\n",
    "\n",
    "grosspay=hours*wage\n",
    "print(grosspay)"
   ]
  },
  {
   "cell_type": "code",
   "execution_count": 13,
   "metadata": {},
   "outputs": [
    {
     "name": "stdout",
     "output_type": "stream",
     "text": [
      "enter tem in celsius67\n",
      "the temperaure is 152.60000000000002\n"
     ]
    }
   ],
   "source": [
    "## celsius to fahrenheit\n",
    "\n",
    "celsius=float(input('enter tem in celsius'))\n",
    "fahrenheit= (celsius*1.8)+32    ### celsius*1.8=fahrenheit-32\n",
    "\n",
    "print('the temperaure is',fahrenheit)"
   ]
  },
  {
   "cell_type": "code",
   "execution_count": 10,
   "metadata": {},
   "outputs": [],
   "source": [
    "def gross(a,b):\n",
    "    gross=a*b\n",
    "    return gross"
   ]
  },
  {
   "cell_type": "code",
   "execution_count": 14,
   "metadata": {},
   "outputs": [
    {
     "data": {
      "text/plain": [
       "600"
      ]
     },
     "execution_count": 14,
     "metadata": {},
     "output_type": "execute_result"
    }
   ],
   "source": [
    "gross(2,300)"
   ]
  },
  {
   "cell_type": "code",
   "execution_count": 15,
   "metadata": {},
   "outputs": [],
   "source": [
    "def temp(celsius):\n",
    "    temp=(celsius*1.8)+32\n",
    "    return temp"
   ]
  },
  {
   "cell_type": "code",
   "execution_count": 16,
   "metadata": {},
   "outputs": [
    {
     "data": {
      "text/plain": [
       "152.60000000000002"
      ]
     },
     "execution_count": 16,
     "metadata": {},
     "output_type": "execute_result"
    }
   ],
   "source": [
    "temp(67)"
   ]
  },
  {
   "cell_type": "code",
   "execution_count": null,
   "metadata": {},
   "outputs": [],
   "source": []
  },
  {
   "cell_type": "markdown",
   "metadata": {},
   "source": [
    "## looping structures\n",
    "\n",
    "    - while loop\n",
    "    - for loop"
   ]
  },
  {
   "cell_type": "code",
   "execution_count": 14,
   "metadata": {},
   "outputs": [
    {
     "name": "stdout",
     "output_type": "stream",
     "text": [
      "example over\n"
     ]
    }
   ],
   "source": [
    "# illustration of while loop\n",
    "\n",
    "i=0\n",
    "while i>=10:\n",
    "    print('i=',i)\n",
    "    i=i+2### \n",
    "print('example over')"
   ]
  },
  {
   "cell_type": "code",
   "execution_count": 34,
   "metadata": {},
   "outputs": [
    {
     "name": "stdout",
     "output_type": "stream",
     "text": [
      "0\n",
      "2\n",
      "4\n",
      "6\n",
      "8\n",
      "10\n",
      "12\n",
      "14\n",
      "16\n",
      "18\n",
      "20\n",
      "22\n",
      "24\n",
      "26\n",
      "28\n",
      "30\n",
      "32\n",
      "34\n",
      "36\n",
      "38\n",
      "40\n",
      "42\n",
      "44\n",
      "46\n",
      "48\n",
      "50\n",
      "52\n",
      "54\n",
      "56\n",
      "58\n",
      "60\n",
      "62\n",
      "64\n",
      "66\n",
      "68\n",
      "70\n",
      "72\n",
      "74\n",
      "76\n",
      "78\n",
      "80\n",
      "82\n",
      "84\n",
      "86\n",
      "88\n",
      "90\n",
      "92\n",
      "94\n",
      "96\n",
      "98\n",
      "100\n"
     ]
    }
   ],
   "source": [
    "i=0\n",
    "while i<=100:\n",
    "    if i%2==0:\n",
    "        print(i)\n",
    "    elif i%2!=0:\n",
    "        print(i)\n",
    "    \n",
    "     \n",
    "    i=i+2"
   ]
  },
  {
   "cell_type": "code",
   "execution_count": 20,
   "metadata": {},
   "outputs": [
    {
     "name": "stdout",
     "output_type": "stream",
     "text": [
      "2,4,6,8,10,12,14,16,18,20,22,24,26,28,30,32,34,36,38,40,42,44,46,48,50,52,54,56,58,60,62,64,66,68,70,72,74,76,78,80,82,84,86,88,90,92,94,96,98,100,"
     ]
    }
   ],
   "source": [
    "i=0\n",
    "while i<100:\n",
    "    i+=2\n",
    "    print(i,end=',')"
   ]
  },
  {
   "cell_type": "markdown",
   "metadata": {},
   "source": [
    "## range function\n",
    "\n",
    "    - range(start,end,step)\n",
    "    - default start is 0\n",
    "    - steps is optional"
   ]
  },
  {
   "cell_type": "code",
   "execution_count": 21,
   "metadata": {},
   "outputs": [
    {
     "name": "stdout",
     "output_type": "stream",
     "text": [
      "1\n",
      "3\n",
      "5\n",
      "7\n",
      "9\n"
     ]
    }
   ],
   "source": [
    "# for loop\n",
    "for i in range(1,10,2):\n",
    "    print(i)\n",
    "    \n",
    "    "
   ]
  },
  {
   "cell_type": "code",
   "execution_count": 38,
   "metadata": {},
   "outputs": [
    {
     "name": "stdout",
     "output_type": "stream",
     "text": [
      "1\n",
      "3\n",
      "5\n",
      "7\n",
      "9\n"
     ]
    }
   ],
   "source": [
    "\n",
    "for i in range(1,10,2):\n",
    "    print(i)"
   ]
  },
  {
   "cell_type": "code",
   "execution_count": 23,
   "metadata": {},
   "outputs": [
    {
     "name": "stdout",
     "output_type": "stream",
     "text": [
      "0,1,2,3,4,5,6,7,8,9,10,11,12,13,14,15,16,17,18,19,20,21,22,23,24,25,26,27,28,29,30,31,32,33,34,35,36,37,38,39,40,41,42,43,44,45,46,47,48,49,"
     ]
    }
   ],
   "source": [
    "for i in range(50):\n",
    "    print(i,end=',')\n",
    "    "
   ]
  },
  {
   "cell_type": "code",
   "execution_count": 29,
   "metadata": {},
   "outputs": [
    {
     "name": "stdout",
     "output_type": "stream",
     "text": [
      "2\n",
      "3\n",
      "4\n",
      "5\n",
      "6\n",
      "7\n",
      "8\n",
      "9\n",
      "3\n",
      "4\n",
      "5\n",
      "6\n",
      "7\n",
      "8\n",
      "9\n",
      "4\n",
      "5\n",
      "6\n",
      "7\n",
      "8\n",
      "9\n",
      "5\n",
      "6\n",
      "7\n",
      "8\n",
      "9\n",
      "6\n",
      "7\n",
      "8\n",
      "9\n",
      "7\n",
      "8\n",
      "9\n",
      "8\n",
      "9\n",
      "9\n"
     ]
    }
   ],
   "source": [
    "for i in range(1,10,1):\n",
    "    while i<9:\n",
    "        i=i+1\n",
    "        print(i)"
   ]
  },
  {
   "cell_type": "code",
   "execution_count": 31,
   "metadata": {},
   "outputs": [
    {
     "name": "stdout",
     "output_type": "stream",
     "text": [
      "h\n",
      "e\n",
      "l\n",
      "l\n",
      "o\n"
     ]
    }
   ],
   "source": [
    "for i in 'hello':\n",
    "    \n",
    "    print(i)"
   ]
  },
  {
   "cell_type": "code",
   "execution_count": 32,
   "metadata": {},
   "outputs": [
    {
     "name": "stdout",
     "output_type": "stream",
     "text": [
      "hai\n",
      "hai\n",
      "hai\n",
      "hai\n",
      "hai\n"
     ]
    }
   ],
   "source": [
    "for i in range(5):\n",
    "    print('hai')"
   ]
  },
  {
   "cell_type": "code",
   "execution_count": null,
   "metadata": {},
   "outputs": [],
   "source": [
    "#for i in range(10):\n",
    "    #while i<=9:\n",
    "        #print(i)\n",
    "    "
   ]
  },
  {
   "cell_type": "code",
   "execution_count": 1,
   "metadata": {},
   "outputs": [
    {
     "name": "stdout",
     "output_type": "stream",
     "text": [
      "( 0 0 0 ) ( 0 0 1 ) ( 0 0 2 ) ( 0 0 3 ) ( 0 0 4 ) ( 0 1 0 ) ( 0 1 1 ) ( 0 1 2 ) ( 0 1 3 ) ( 0 1 4 ) ( 0 2 0 ) ( 0 2 1 ) ( 0 2 2 ) ( 0 2 3 ) ( 0 2 4 ) ( 0 3 0 ) ( 0 3 1 ) ( 0 3 2 ) ( 0 3 3 ) ( 0 3 4 ) ( 1 0 0 ) ( 1 0 1 ) ( 1 0 2 ) ( 1 0 3 ) ( 1 0 4 ) ( 1 1 0 ) ( 1 1 1 ) ( 1 1 2 ) ( 1 1 3 ) ( 1 1 4 ) ( 1 2 0 ) ( 1 2 1 ) ( 1 2 2 ) ( 1 2 3 ) ( 1 2 4 ) ( 1 3 0 ) ( 1 3 1 ) ( 1 3 2 ) ( 1 3 3 ) ( 1 3 4 ) ( 2 0 0 ) ( 2 0 1 ) ( 2 0 2 ) ( 2 0 3 ) ( 2 0 4 ) ( 2 1 0 ) ( 2 1 1 ) ( 2 1 2 ) ( 2 1 3 ) ( 2 1 4 ) ( 2 2 0 ) ( 2 2 1 ) ( 2 2 2 ) ( 2 2 3 ) ( 2 2 4 ) ( 2 3 0 ) ( 2 3 1 ) ( 2 3 2 ) ( 2 3 3 ) ( 2 3 4 ) "
     ]
    }
   ],
   "source": [
    "for i in range(3):\n",
    "    for j in range(4):\n",
    "        for k in range(5):\n",
    "            print('(',i,j,k,')',end=' ')"
   ]
  },
  {
   "cell_type": "markdown",
   "metadata": {},
   "source": [
    "## early termination of loops using break"
   ]
  },
  {
   "cell_type": "code",
   "execution_count": 2,
   "metadata": {},
   "outputs": [
    {
     "name": "stdout",
     "output_type": "stream",
     "text": [
      "enter number56\n",
      "Game over\n"
     ]
    }
   ],
   "source": [
    "for i in range(10):\n",
    "    x=int(input('enter number'))\n",
    "    \n",
    "    if x%7==0:\n",
    "        break\n",
    "    print('you have entered',x)\n",
    "    \n",
    "print('Game over')"
   ]
  },
  {
   "cell_type": "code",
   "execution_count": 3,
   "metadata": {},
   "outputs": [],
   "source": [
    "for i in range(20):\n",
    "    if i%7==0:\n",
    "        break"
   ]
  },
  {
   "cell_type": "code",
   "execution_count": 4,
   "metadata": {},
   "outputs": [],
   "source": [
    "for i in range(10):\n",
    "    if i%7==0:\n",
    "        continue\n",
    "    "
   ]
  },
  {
   "cell_type": "code",
   "execution_count": null,
   "metadata": {},
   "outputs": [],
   "source": [
    "total=0\n",
    "for i in range(10):\n",
    "    x=int(input('enter positive number'))\n",
    "    \n",
    "    if x<0:\n",
    "        print('Negative numbers are not considered')\n",
    "        continue\n",
    "    print('you have entered',x)\n",
    "        total+=x\n",
    "    \n",
    "print('total=',total)\n",
    "print('Game over')"
   ]
  },
  {
   "cell_type": "markdown",
   "metadata": {},
   "source": [
    "## Exercises:\n",
    "\n",
    "    1.Read a number as a user input.check whether the number is paalindrome or not\n",
    "    2.write a program to find sum of the digits of a given number(user input)\n",
    "    3.write a program to dispaly all prime numbers up to n(user input)\n",
    "    4.write a program to check whether a given number is orime or not\n",
    "    5.write a program to find factorial of a given number n(user input)\n",
    "    6.write a program to print Fibonnaci sequence for n(user input) terms\n",
    "    7....to find area of a triangle,given three sides"
   ]
  },
  {
   "cell_type": "code",
   "execution_count": null,
   "metadata": {},
   "outputs": [],
   "source": [
    "#for i in range(10):\n",
    "#    x=int(input('enter a positive number'))\n",
    "#    if x<0:\n",
    "#        continue\n",
    " ##   print('hai')\n",
    "#print('over')"
   ]
  },
  {
   "cell_type": "code",
   "execution_count": 4,
   "metadata": {},
   "outputs": [
    {
     "name": "stdout",
     "output_type": "stream",
     "text": [
      "enter string maDAM\n",
      "enter number 123\n"
     ]
    }
   ],
   "source": [
    "# palindrome of string and number\n",
    "\n",
    "string=input('enter string ')\n",
    "rev_str=string[::-1]\n",
    "rev_str\n",
    "\n",
    "# for number\n",
    "\n",
    "num=int(input('enter number '))\n",
    "num1=str(num)\n",
    "rev_num=num1[::-1]\n",
    "rev_num\n",
    "\n",
    "if num==rev_num:\n",
    "    print('it is a palindrome/')"
   ]
  },
  {
   "cell_type": "code",
   "execution_count": 7,
   "metadata": {},
   "outputs": [],
   "source": [
    "#num=int(input('enter number '))\n",
    "#for x in range(num):\n",
    "    \n",
    "#    if x%2!=0:\n",
    "        \n",
    "#        print('it is a prime number')\n",
    "        \n",
    " #   else:\n",
    "  #      print('it is not a prime number')\n",
    "    \n",
    "    \n",
    "\n",
    "\n"
   ]
  },
  {
   "cell_type": "code",
   "execution_count": 4,
   "metadata": {},
   "outputs": [
    {
     "name": "stdout",
     "output_type": "stream",
     "text": [
      "enter number7\n",
      "it is a prime\n"
     ]
    }
   ],
   "source": [
    "x=int(input('enter number'))\n",
    "if x!=0:\n",
    "    print('it is a prime')\n",
    "else:\n",
    "        print('it is not prime')"
   ]
  },
  {
   "cell_type": "code",
   "execution_count": 5,
   "metadata": {},
   "outputs": [
    {
     "name": "stdout",
     "output_type": "stream",
     "text": [
      "enter number5\n"
     ]
    },
    {
     "data": {
      "text/plain": [
       "120"
      ]
     },
     "execution_count": 5,
     "metadata": {},
     "output_type": "execute_result"
    }
   ],
   "source": [
    "x=int(input('enter number'))\n",
    "factorial=x*(x-1)*(x-2)*(x-3)*(x-4)\n",
    "factorial"
   ]
  },
  {
   "cell_type": "code",
   "execution_count": 20,
   "metadata": {},
   "outputs": [],
   "source": [
    "import math"
   ]
  },
  {
   "cell_type": "code",
   "execution_count": 34,
   "metadata": {},
   "outputs": [
    {
     "name": "stdout",
     "output_type": "stream",
     "text": [
      "enter side1 1\n",
      "enter side2 2\n",
      "enter side3 6\n",
      "triangle cannot be formed\n"
     ]
    }
   ],
   "source": [
    "a=int(input('enter side1 '))\n",
    "b=int(input('enter side2 '))\n",
    "c=int(input('enter side3 '))\n",
    "\n",
    "if a+c>b and a+b>c and b+c>a:\n",
    "\n",
    "    s=(a+b+c)/2\n",
    "\n",
    "    AOT=math.sqrt(s*(s-a)*(s-b)*(s-c))\n",
    "    AOT\n",
    "    \n",
    "else:\n",
    "    print('triangle cannot be formed')"
   ]
  },
  {
   "cell_type": "code",
   "execution_count": 37,
   "metadata": {},
   "outputs": [
    {
     "name": "stdout",
     "output_type": "stream",
     "text": [
      "enter number 5\n",
      "120\n"
     ]
    }
   ],
   "source": [
    "# factorial\n",
    "\n",
    "n=int(input('enter number '))\n",
    "f=1\n",
    "for i in range(1,n+1,1):\n",
    "    f=f*i\n",
    "print(f)"
   ]
  },
  {
   "cell_type": "code",
   "execution_count": 38,
   "metadata": {},
   "outputs": [
    {
     "name": "stdout",
     "output_type": "stream",
     "text": [
      "enter a number6\n",
      "Factorial of f 6 is 720\n"
     ]
    }
   ],
   "source": [
    "# factorial\n",
    "\n",
    "n=int(input('enter a number'))\n",
    "if n<0:\n",
    "    print('factorial cannot be defined for negative numbers')\n",
    "    \n",
    "elif n==0:\n",
    "    print('factorial is 1')\n",
    "    \n",
    "else:\n",
    "    f=1\n",
    "    for i in range(1,n+1):\n",
    "        f=f*i\n",
    "    print('Factorial of f',n,'is',f)"
   ]
  },
  {
   "cell_type": "code",
   "execution_count": 6,
   "metadata": {},
   "outputs": [
    {
     "name": "stdout",
     "output_type": "stream",
     "text": [
      "number 6\n",
      "1\n",
      "2\n",
      "6\n",
      "24\n",
      "120\n"
     ]
    }
   ],
   "source": [
    "n=int(input('number '))\n",
    "f=1\n",
    "for i in range(1,n,1):\n",
    "    f=f*i\n",
    "    print(f)\n",
    "    \n"
   ]
  },
  {
   "cell_type": "code",
   "execution_count": 2,
   "metadata": {},
   "outputs": [
    {
     "name": "stdout",
     "output_type": "stream",
     "text": [
      "enter a value 2\n",
      "enter b value 4\n",
      "enter c value 6\n",
      "there exists no real roots\n"
     ]
    }
   ],
   "source": [
    "# roots of quadratic equation \n",
    "\n",
    "\n",
    "\n",
    "a=float(input('enter a value '))\n",
    "b=float(input('enter b value '))\n",
    "c=float(input('enter c value '))\n",
    "\n",
    "\n",
    "roots=(b**2)-(4*a*c)\n",
    "\n",
    "if roots>0:\n",
    "    print('there exists two real roots')\n",
    "elif roots<0:\n",
    "    print('there exists no real roots')\n",
    "else:\n",
    "    print('roots are imaginary')"
   ]
  },
  {
   "cell_type": "code",
   "execution_count": 1,
   "metadata": {},
   "outputs": [
    {
     "name": "stdout",
     "output_type": "stream",
     "text": [
      "enter number 4\n"
     ]
    }
   ],
   "source": [
    "# sum of natural numbers\n",
    "\n",
    "n=int(input('enter number '))\n",
    "\n",
    "sum=0\n",
    "i=1\n",
    "while i<=n:\n",
    "    sum=i+1\n",
    "    i=i+1\n"
   ]
  },
  {
   "cell_type": "code",
   "execution_count": 9,
   "metadata": {},
   "outputs": [
    {
     "name": "stdout",
     "output_type": "stream",
     "text": [
      "9\n"
     ]
    }
   ],
   "source": [
    "# sum of natural numbers uing for loop\n",
    "add=0\n",
    "for i in range(10):\n",
    "    add=add+i\n",
    "    \n",
    "print(i)"
   ]
  },
  {
   "cell_type": "code",
   "execution_count": null,
   "metadata": {},
   "outputs": [],
   "source": [
    "# using while loop\n",
    "\n",
    "n=10\n",
    "add=0\n",
    "while n<=10:\n",
    "    \n",
    "    \n",
    "    "
   ]
  },
  {
   "cell_type": "code",
   "execution_count": 2,
   "metadata": {},
   "outputs": [
    {
     "name": "stdout",
     "output_type": "stream",
     "text": [
      "enter number 1232\n",
      "not a palindrome\n"
     ]
    }
   ],
   "source": [
    "# 1. palindrome or not\n",
    "\n",
    "num=int(input('enter number '))\n",
    "n=num\n",
    "revnum=0\n",
    "\n",
    "while num>0:\n",
    "    digit=num%10\n",
    "    num=num//10\n",
    "    revnum=revnum*10+digit\n",
    "    \n",
    "if n==revnum:\n",
    "    print('palindrome')\n",
    "else:\n",
    "    print('not a palindrome')\n",
    "    "
   ]
  },
  {
   "cell_type": "code",
   "execution_count": 5,
   "metadata": {},
   "outputs": [
    {
     "name": "stdout",
     "output_type": "stream",
     "text": [
      "enter number 1234\n",
      "sum of digits=  10\n"
     ]
    }
   ],
   "source": [
    "# 2.sumof digits of a number\n",
    "\n",
    "num=int(input('enter number '))\n",
    "total=0\n",
    "while(num>0):\n",
    "        digit=num%10\n",
    "        num=num//10\n",
    "        total+=digit\n",
    "print('sum of digits= ',total)"
   ]
  },
  {
   "cell_type": "code",
   "execution_count": 12,
   "metadata": {},
   "outputs": [
    {
     "name": "stdout",
     "output_type": "stream",
     "text": [
      "enter number5\n",
      "5 is a prime\n"
     ]
    }
   ],
   "source": [
    "## to check whether a number is prime or not  \n",
    "\n",
    "import math\n",
    "\n",
    "n=int(input('enter number'))\n",
    "\n",
    "flag=0\n",
    "for i in range(2,int(math.sqrt(n)+1)):\n",
    "    if n%i==0:\n",
    "        flag=1\n",
    "        break\n",
    "        \n",
    "if flag==0:\n",
    "    print(n,'is a prime')\n",
    "else:\n",
    "    print(n,'is not a prime')"
   ]
  },
  {
   "cell_type": "code",
   "execution_count": 14,
   "metadata": {},
   "outputs": [
    {
     "name": "stdout",
     "output_type": "stream",
     "text": [
      "enter number 20\n",
      "2 3 5 7 11 13 17 19 "
     ]
    }
   ],
   "source": [
    "n=int(input('enter number '))\n",
    "for j in range(2,n+1):\n",
    "    flag=0\n",
    "    for i in range(2,int(math.sqrt(j)+1)):\n",
    "        if j%i==0:\n",
    "            flag=1\n",
    "            break\n",
    "    if flag==0:\n",
    "        print(j,end=' ')"
   ]
  },
  {
   "cell_type": "code",
   "execution_count": 17,
   "metadata": {},
   "outputs": [
    {
     "name": "stdout",
     "output_type": "stream",
     "text": [
      "enter number10\n",
      "0 1 1 2 3 5 8 13 21 34 "
     ]
    }
   ],
   "source": [
    "# fibonacci series of a number\n",
    "n=int(input('enter number'))\n",
    "if n<0:\n",
    "        print('invalid number')\n",
    "else:\n",
    "    f0=0\n",
    "    f1=1\n",
    "    print(f0,f1,end=' ')\n",
    "    for i in range(2,n):\n",
    "        f2=f0+f1\n",
    "        print(f2,end=' ')\n",
    "        f0=f1\n",
    "        f1=f2"
   ]
  },
  {
   "cell_type": "code",
   "execution_count": null,
   "metadata": {},
   "outputs": [],
   "source": []
  },
  {
   "cell_type": "code",
   "execution_count": null,
   "metadata": {},
   "outputs": [],
   "source": []
  },
  {
   "cell_type": "code",
   "execution_count": null,
   "metadata": {},
   "outputs": [],
   "source": []
  },
  {
   "cell_type": "code",
   "execution_count": null,
   "metadata": {},
   "outputs": [],
   "source": []
  },
  {
   "cell_type": "code",
   "execution_count": null,
   "metadata": {},
   "outputs": [],
   "source": []
  },
  {
   "cell_type": "code",
   "execution_count": null,
   "metadata": {},
   "outputs": [],
   "source": []
  },
  {
   "cell_type": "code",
   "execution_count": null,
   "metadata": {},
   "outputs": [],
   "source": []
  },
  {
   "cell_type": "code",
   "execution_count": null,
   "metadata": {},
   "outputs": [],
   "source": []
  },
  {
   "cell_type": "code",
   "execution_count": null,
   "metadata": {},
   "outputs": [],
   "source": []
  }
 ],
 "metadata": {
  "kernelspec": {
   "display_name": "Python 3",
   "language": "python",
   "name": "python3"
  },
  "language_info": {
   "codemirror_mode": {
    "name": "ipython",
    "version": 3
   },
   "file_extension": ".py",
   "mimetype": "text/x-python",
   "name": "python",
   "nbconvert_exporter": "python",
   "pygments_lexer": "ipython3",
   "version": "3.7.3"
  }
 },
 "nbformat": 4,
 "nbformat_minor": 2
}
